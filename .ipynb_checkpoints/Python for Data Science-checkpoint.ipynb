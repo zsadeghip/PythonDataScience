{
 "cells": [
  {
   "cell_type": "markdown",
   "metadata": {},
   "source": [
    "## Python for data science course by Siraj ##"
   ]
  },
  {
   "cell_type": "markdown",
   "metadata": {},
   "source": [
    "### 1. Male/Female classification using height, weight, and shoe size ###"
   ]
  },
  {
   "cell_type": "code",
   "execution_count": 21,
   "metadata": {},
   "outputs": [
    {
     "name": "stdout",
     "output_type": "stream",
     "text": [
      "Decision tree prediction is:\n",
      "['male']\n",
      "KNN prediction is:\n",
      "['male']\n",
      "Random forest prediction is:\n",
      "['male']\n"
     ]
    }
   ],
   "source": [
    "from sklearn import tree, neighbors, ensemble\n",
    "import numpy as np\n",
    "X = [[181,80,44], [177,40,43],[160,60,38], [154,54,37], [166,65,40],[190,90,47],[185,80,42],\n",
    "     [175,64,39],[177,70,40],[171,75,42],[181,85,43]]\n",
    "Y = ['male','female','female','female','male','male','male','female','male','female','male']\n",
    "\n",
    "test = [[190,70,43]]\n",
    "\n",
    "# decision tree\n",
    "DT = tree.DecisionTreeClassifier()\n",
    "DT = DT.fit(X,Y)\n",
    "prediction_DT = DT.predict(test)\n",
    "print(\"Decision tree prediction is:\")\n",
    "print(prediction_DT)\n",
    "\n",
    "# KNN\n",
    "KNN = neighbors.KNeighborsClassifier(n_neighbors=3)\n",
    "KNN = KNN.fit(X,Y)\n",
    "prediction_KNN = KNN.predict(test)\n",
    "print(\"KNN prediction is:\")\n",
    "print(prediction_KNN)\n",
    "\n",
    "# Random Forest\n",
    "RF = ensemble.RandomForestClassifier()\n",
    "RF = RF.fit(X,Y)\n",
    "prediction_RF = RF.predict(test)\n",
    "print(\"Random forest prediction is:\")\n",
    "print(prediction_RF)\n",
    "\n"
   ]
  },
  {
   "cell_type": "markdown",
   "metadata": {},
   "source": [
    "### 2. Twitter Sentiment Analysis ###\n",
    "Anlyzing the sentiment of twitts using tokenization, bag of word, ..."
   ]
  },
  {
   "cell_type": "code",
   "execution_count": 1,
   "metadata": {},
   "outputs": [
    {
     "ename": "ImportError",
     "evalue": "cannot import name 'textblob'",
     "output_type": "error",
     "traceback": [
      "\u001b[0;31m---------------------------------------------------------------------------\u001b[0m",
      "\u001b[0;31mImportError\u001b[0m                               Traceback (most recent call last)",
      "\u001b[0;32m<ipython-input-1-27d1cdf385a3>\u001b[0m in \u001b[0;36m<module>\u001b[0;34m()\u001b[0m\n\u001b[1;32m      1\u001b[0m \u001b[0;32mimport\u001b[0m \u001b[0mtweepy\u001b[0m\u001b[0;34m\u001b[0m\u001b[0m\n\u001b[0;32m----> 2\u001b[0;31m \u001b[0;32mfrom\u001b[0m \u001b[0mtextblob\u001b[0m \u001b[0;32mimport\u001b[0m \u001b[0mtextblob\u001b[0m\u001b[0;34m\u001b[0m\u001b[0m\n\u001b[0m\u001b[1;32m      3\u001b[0m \u001b[0;34m\u001b[0m\u001b[0m\n",
      "\u001b[0;31mImportError\u001b[0m: cannot import name 'textblob'"
     ]
    }
   ],
   "source": [
    "import tweepy\n",
    "from textblob import textblob\n",
    "\n"
   ]
  },
  {
   "cell_type": "code",
   "execution_count": null,
   "metadata": {
    "collapsed": true
   },
   "outputs": [],
   "source": []
  }
 ],
 "metadata": {
  "kernelspec": {
   "display_name": "Python 3",
   "language": "python",
   "name": "python3"
  },
  "language_info": {
   "codemirror_mode": {
    "name": "ipython",
    "version": 3
   },
   "file_extension": ".py",
   "mimetype": "text/x-python",
   "name": "python",
   "nbconvert_exporter": "python",
   "pygments_lexer": "ipython3",
   "version": "3.6.1"
  }
 },
 "nbformat": 4,
 "nbformat_minor": 2
}
