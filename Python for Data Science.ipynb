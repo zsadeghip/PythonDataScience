{
 "cells": [
  {
   "cell_type": "markdown",
   "metadata": {},
   "source": [
    "## Python for data science course by Siraj ##"
   ]
  },
  {
   "cell_type": "markdown",
   "metadata": {},
   "source": [
    "### 1. Male/Female classification using height, weight, and shoe size ###"
   ]
  },
  {
   "cell_type": "code",
   "execution_count": 21,
   "metadata": {},
   "outputs": [
    {
     "name": "stdout",
     "output_type": "stream",
     "text": [
      "Decision tree prediction is:\n",
      "['male']\n",
      "KNN prediction is:\n",
      "['male']\n",
      "Random forest prediction is:\n",
      "['male']\n"
     ]
    }
   ],
   "source": [
    "from sklearn import tree, neighbors, ensemble\n",
    "import numpy as np\n",
    "X = [[181,80,44], [177,40,43],[160,60,38], [154,54,37], [166,65,40],[190,90,47],[185,80,42],\n",
    "     [175,64,39],[177,70,40],[171,75,42],[181,85,43]]\n",
    "Y = ['male','female','female','female','male','male','male','female','male','female','male']\n",
    "\n",
    "test = [[190,70,43]]\n",
    "\n",
    "# decision tree\n",
    "DT = tree.DecisionTreeClassifier()\n",
    "DT = DT.fit(X,Y)\n",
    "prediction_DT = DT.predict(test)\n",
    "print(\"Decision tree prediction is:\")\n",
    "print(prediction_DT)\n",
    "\n",
    "# KNN\n",
    "KNN = neighbors.KNeighborsClassifier(n_neighbors=3)\n",
    "KNN = KNN.fit(X,Y)\n",
    "prediction_KNN = KNN.predict(test)\n",
    "print(\"KNN prediction is:\")\n",
    "print(prediction_KNN)\n",
    "\n",
    "# Random Forest\n",
    "RF = ensemble.RandomForestClassifier()\n",
    "RF = RF.fit(X,Y)\n",
    "prediction_RF = RF.predict(test)\n",
    "print(\"Random forest prediction is:\")\n",
    "print(prediction_RF)\n",
    "\n"
   ]
  },
  {
   "cell_type": "markdown",
   "metadata": {},
   "source": [
    "### 2. Twitter Sentiment Analysis ###\n",
    "Anlyzing the sentiment of twitts using tokenization, bag of word, ..."
   ]
  },
  {
   "cell_type": "code",
   "execution_count": 19,
   "metadata": {},
   "outputs": [
    {
     "name": "stdout",
     "output_type": "stream",
     "text": [
      "*********************\n",
      "Pake iPhone 7 saja. Ngeliat sunset dari balkon bagus begini, sebenernya menarik juga buat kapan-kapan belajar foto… https://t.co/skOXsFwJuE\n",
      "!!!! Sentiment(polarity=0.0, subjectivity=0.0) !!!!\n",
      "*********************\n",
      "RT @zwanmohammad: Long Exposure.\n",
      "Using iPhone.\n",
      "And a bit touch of Lightroom. https://t.co/CSLeW6FU1g\n",
      "!!!! Sentiment(polarity=-0.05, subjectivity=0.4) !!!!\n",
      "*********************\n",
      "RT @raafikaziz: Using iPhone camera. And click the LIVE camera. After you take your shots click the image and swipe up. And you will see th…\n",
      "!!!! Sentiment(polarity=0.13636363636363635, subjectivity=0.5) !!!!\n",
      "*********************\n",
      "Handheld long exposure on an iPhone!?!? You betcha! Crazy what this thing can do! Have an… https://t.co/c4RIUdGaTy\n",
      "!!!! Sentiment(polarity=-0.423828125, subjectivity=0.65) !!!!\n",
      "*********************\n",
      "Long Exposure.\n",
      "Using iPhone.\n",
      "And a bit touch of Lightroom. https://t.co/CSLeW6FU1g\n",
      "!!!! Sentiment(polarity=-0.05, subjectivity=0.4) !!!!\n",
      "*********************\n",
      "RT @raafikaziz: Using iPhone camera. And click the LIVE camera. After you take your shots click the image and swipe up. And you will see th…\n",
      "!!!! Sentiment(polarity=0.13636363636363635, subjectivity=0.5) !!!!\n",
      "*********************\n",
      "RT @raafikaziz: Using iPhone camera. And click the LIVE camera. After you take your shots click the image and swipe up. And you will see th…\n",
      "!!!! Sentiment(polarity=0.13636363636363635, subjectivity=0.5) !!!!\n",
      "*********************\n",
      "RT @raafikaziz: Using iPhone camera. And click the LIVE camera. After you take your shots click the image and swipe up. And you will see th…\n",
      "!!!! Sentiment(polarity=0.13636363636363635, subjectivity=0.5) !!!!\n",
      "*********************\n",
      "The iPhone long exposure is pretty impressive. https://t.co/fwn24w4YBf\n",
      "!!!! Sentiment(polarity=0.39999999999999997, subjectivity=0.7999999999999999) !!!!\n",
      "*********************\n",
      "RT @raafikaziz: Using iPhone camera. And click the LIVE camera. After you take your shots click the image and swipe up. And you will see th…\n",
      "!!!! Sentiment(polarity=0.13636363636363635, subjectivity=0.5) !!!!\n",
      "*********************\n",
      "RT @raafikaziz: Using iPhone camera. And click the LIVE camera. After you take your shots click the image and swipe up. And you will see th…\n",
      "!!!! Sentiment(polarity=0.13636363636363635, subjectivity=0.5) !!!!\n",
      "*********************\n",
      "RT @raafikaziz: Using iPhone camera. And click the LIVE camera. After you take your shots click the image and swipe up. And you will see th…\n",
      "!!!! Sentiment(polarity=0.13636363636363635, subjectivity=0.5) !!!!\n",
      "*********************\n",
      "RT @raafikaziz: Using iPhone camera. And click the LIVE camera. After you take your shots click the image and swipe up. And you will see th…\n",
      "!!!! Sentiment(polarity=0.13636363636363635, subjectivity=0.5) !!!!\n",
      "*********************\n",
      "RT @raafikaziz: Using iPhone camera. And click the LIVE camera. After you take your shots click the image and swipe up. And you will see th…\n",
      "!!!! Sentiment(polarity=0.13636363636363635, subjectivity=0.5) !!!!\n",
      "*********************\n",
      "RT @raafikaziz: Using iPhone camera. And click the LIVE camera. After you take your shots click the image and swipe up. And you will see th…\n",
      "!!!! Sentiment(polarity=0.13636363636363635, subjectivity=0.5) !!!!\n"
     ]
    }
   ],
   "source": [
    "import tweepy\n",
    "from textblob import TextBlob\n",
    "\n",
    "consumer_key = 'w082B1rIFOi1PM4j3GSPSiYMu'\n",
    "consumer_secret = '2892XXJDQEQGiWFFpyLCKE2JQzhIxqiHzb8upS4E2xK0aopghM'\n",
    "\n",
    "access_token = '2572897098-mgzH5AKfQ0Np4CExlpb4KzzwCDKr03eWEPUXvPz'\n",
    "access_token_secret = '33FTQxCChQi0Opzhr3bEWbYypelCSIAodsfCPG8fGEMqG'\n",
    "\n",
    "# perform the authentication using twitter API\n",
    "auth = tweepy.OAuthHandler(consumer_key, consumer_secret)\n",
    "auth.set_access_token(access_token, access_token_secret)\n",
    "\n",
    "# create an API using those credentials\n",
    "api = tweepy.API(auth)\n",
    "\n",
    "# find a bunch of public tweets that contain a certain keyword\n",
    "public_tweets = api.search('Long Exposure, iPhone')\n",
    "\n",
    "for tweet in public_tweets:\n",
    "    print(\"*********************\")\n",
    "    print(tweet.text)\n",
    "    analysis = TextBlob(tweet.text)\n",
    "    print(\"!!!!\",analysis.sentiment,\"!!!!\")\n"
   ]
  },
  {
   "cell_type": "markdown",
   "metadata": {},
   "source": [
    "### 5. Deep Learning with TensorFlow ###"
   ]
  },
  {
   "cell_type": "code",
   "execution_count": 24,
   "metadata": {
    "collapsed": true
   },
   "outputs": [],
   "source": [
    "import numpy as np\n",
    "from functools import partial\n",
    "import PIL.Image\n",
    "import tensorflow as tf\n",
    "import urllib.request\n",
    "import os\n",
    "import zipfile\n",
    "\n",
    "def main():\n",
    "    # download google's pre-trained network\n",
    "    url = 'https://storage.googleapis.com/download.tensorflow.org/models/inception5h.zip'\n",
    "    data_dir = '../data'\n",
    "    model_name = os.path.split(url)[-1]\n",
    "    local_zip_file = os.path.join(data_dir, model_name)\n",
    "    if not os.path.exists(local_zip_file):\n",
    "        # Download\n",
    "        model_url = urllib.request.urlopen(url)\n",
    "        #with open(local_zip_file, 'wb') as output:\n",
    "        #    output.write(model_url.read())\n",
    "        output = open(local_zip_file, 'wb')\n",
    "        output.write(model_url.read())\n",
    "        # extract    \n",
    "        with zipfile.ZipFile(local_zip_file, 'r') as zip_ref:\n",
    "            zip_ref.extractall(data_dir)\n",
    "        \n",
    "        model_fn = 'tensorflow_inception_graph.pb'\n",
    "        \n",
    "        \n",
    "        \n",
    "            \n",
    "            \n",
    "            \n",
    "    \n",
    "    \n"
   ]
  },
  {
   "cell_type": "code",
   "execution_count": null,
   "metadata": {
    "collapsed": true
   },
   "outputs": [],
   "source": []
  }
 ],
 "metadata": {
  "kernelspec": {
   "display_name": "Python 3",
   "language": "python",
   "name": "python3"
  },
  "language_info": {
   "codemirror_mode": {
    "name": "ipython",
    "version": 3
   },
   "file_extension": ".py",
   "mimetype": "text/x-python",
   "name": "python",
   "nbconvert_exporter": "python",
   "pygments_lexer": "ipython3",
   "version": "3.6.1"
  }
 },
 "nbformat": 4,
 "nbformat_minor": 2
}
